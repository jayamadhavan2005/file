{
  "nbformat": 4,
  "nbformat_minor": 0,
  "metadata": {
    "colab": {
      "provenance": [],
      "toc_visible": true,
      "authorship_tag": "ABX9TyNgrEFgSQlaRSuLYhiersMx",
      "include_colab_link": true
    },
    "kernelspec": {
      "name": "python3",
      "display_name": "Python 3"
    },
    "language_info": {
      "name": "python"
    }
  },
  "cells": [
    {
      "cell_type": "markdown",
      "metadata": {
        "id": "view-in-github",
        "colab_type": "text"
      },
      "source": [
        "<a href=\"https://colab.research.google.com/github/jayamadhavan2005/file/blob/master/daa_lab.ipynb\" target=\"_parent\"><img src=\"https://colab.research.google.com/assets/colab-badge.svg\" alt=\"Open In Colab\"/></a>"
      ]
    },
    {
      "cell_type": "code",
      "execution_count": null,
      "metadata": {
        "colab": {
          "base_uri": "https://localhost:8080/"
        },
        "id": "wnYW4qfhYtYf",
        "outputId": "da8f173d-f61f-4eb2-cbad-e6d97215040f"
      },
      "outputs": [
        {
          "output_type": "stream",
          "name": "stdout",
          "text": [
            "Move disk 1 from A to C\n",
            "Move disk 2 from A to B\n",
            "Move disk 1 from C to B\n",
            "Move disk 3 from A to C\n",
            "Move disk 1 from B to A\n",
            "Move disk 2 from B to C\n",
            "Move disk 1 from A to C\n"
          ]
        }
      ],
      "source": [
        "#Exp 1 Tower of Hanoi\n",
        "def tower_of_hanoi(n, source, auxiliary, destination):\n",
        "    if n == 1:\n",
        "        print(f\"Move disk 1 from {source} to {destination}\")\n",
        "        return\n",
        "    tower_of_hanoi(n - 1, source, destination, auxiliary)\n",
        "    print(f\"Move disk {n} from {source} to {destination}\")\n",
        "    tower_of_hanoi(n - 1, auxiliary, source, destination)\n",
        "\n",
        "# Example usage:\n",
        "num_disks = 3\n",
        "tower_of_hanoi(num_disks, 'A', 'B', 'C')\n"
      ]
    },
    {
      "cell_type": "code",
      "source": [
        "#Exp 2.a Fibonacci Iterative\n",
        "def fibonacci_iterative(n):\n",
        "    a, b = 0, 1\n",
        "    for _ in range(n):\n",
        "        print(a, end=\" \")\n",
        "        a, b = b, a + b\n",
        "\n",
        "# Example usage:\n",
        "fibonacci_iterative(10)\n"
      ],
      "metadata": {
        "colab": {
          "base_uri": "https://localhost:8080/"
        },
        "id": "o0XFDum7Y3vj",
        "outputId": "2eaa4b0a-ba44-4199-e018-7d06cebd28a3"
      },
      "execution_count": null,
      "outputs": [
        {
          "output_type": "stream",
          "name": "stdout",
          "text": [
            "0 1 1 2 3 5 8 13 21 34 "
          ]
        }
      ]
    },
    {
      "cell_type": "code",
      "source": [
        "#Exp 2.b Fibonacci Recursive\n",
        "def fibonacci(n):\n",
        "    if n <= 1:\n",
        "        return n\n",
        "    return fibonacci(n - 1) + fibonacci(n - 2)\n",
        "\n",
        "# Example usage:\n",
        "terms = 10\n",
        "for i in range(terms):\n",
        "    print(fibonacci(i))"
      ],
      "metadata": {
        "colab": {
          "base_uri": "https://localhost:8080/"
        },
        "id": "NxIz4ZKDwI24",
        "outputId": "06079b24-851d-4fde-c303-3c710f5a2e7c"
      },
      "execution_count": 1,
      "outputs": [
        {
          "output_type": "stream",
          "name": "stdout",
          "text": [
            "0\n",
            "1\n",
            "1\n",
            "2\n",
            "3\n",
            "5\n",
            "8\n",
            "13\n",
            "21\n",
            "34\n"
          ]
        }
      ]
    },
    {
      "cell_type": "code",
      "source": [
        "#Exp 3 Bin packing\n",
        "def first_fit_bin_packing(items, bin_capacity):\n",
        "    bins = []  # List to hold the remaining space in each bin\n",
        "\n",
        "    for item in items:\n",
        "        # Try to fit item in an existing bin\n",
        "        placed = False\n",
        "        for i in range(len(bins)):\n",
        "            if bins[i] >= item:\n",
        "                bins[i] -= item\n",
        "                placed = True\n",
        "                break\n",
        "        # If it doesn't fit in any bin, create a new one\n",
        "        if not placed:\n",
        "            bins.append(bin_capacity - item)\n",
        "\n",
        "    return len(bins)\n",
        "\n",
        "# Example usage:\n",
        "items = [4, 8, 1, 4, 2, 1]  # Sizes of items\n",
        "bin_capacity = 10\n",
        "bins_used = first_fit_bin_packing(items, bin_capacity)\n",
        "\n",
        "print(f\"Number of bins used: {bins_used}\")\n"
      ],
      "metadata": {
        "colab": {
          "base_uri": "https://localhost:8080/"
        },
        "id": "Dk5R8W6QZKdC",
        "outputId": "c0224551-0f3d-4b44-a9e8-450fa9f1644e"
      },
      "execution_count": null,
      "outputs": [
        {
          "output_type": "stream",
          "name": "stdout",
          "text": [
            "Number of bins used: 2\n"
          ]
        }
      ]
    },
    {
      "cell_type": "code",
      "source": [
        "#Exp 4 Fractional Knapsack\n",
        "from fractions import Fraction\n",
        "\n",
        "items = [(60, 10), (100, 20), (120, 30)]  # (value, weight)\n",
        "capacity = 50\n",
        "\n",
        "items.sort(key=lambda x: x[0]/x[1], reverse=True)\n",
        "total_value = 0\n",
        "taken = []\n",
        "\n",
        "for value, weight in items:\n",
        "    if capacity >= weight:\n",
        "        capacity -= weight\n",
        "        total_value += value\n",
        "        taken.append((value, weight, Fraction(1)))\n",
        "    else:\n",
        "        fraction = Fraction(capacity, weight)\n",
        "        total_value += value * float(fraction)\n",
        "        taken.append((value, weight, fraction))\n",
        "        break\n",
        "\n",
        "print(f\"Maximum Value: {total_value}\\n\")\n",
        "print(\"Items taken:\")\n",
        "print(f\"{'Value':<10}{'Weight':<10}{'Fraction'}\")\n",
        "for v, w, f in taken:\n",
        "    print(f\"{v:<10}{w:<10}{f.numerator}/{f.denominator}\")"
      ],
      "metadata": {
        "id": "9QZnJ1_WIl2R",
        "colab": {
          "base_uri": "https://localhost:8080/"
        },
        "outputId": "e0d03b14-0462-4452-f798-305ed29967d2"
      },
      "execution_count": 2,
      "outputs": [
        {
          "output_type": "stream",
          "name": "stdout",
          "text": [
            "Maximum Value: 240.0\n",
            "\n",
            "Items taken:\n",
            "Value     Weight    Fraction\n",
            "60        10        1/1\n",
            "100       20        1/1\n",
            "120       30        2/3\n"
          ]
        }
      ]
    },
    {
      "cell_type": "code",
      "source": [
        "#Exp 5 Travelling Salesman Problem\n",
        "from functools import lru_cache\n",
        "\n",
        "# Distance matrix\n",
        "graph = [\n",
        "    [0, 10, 15, 20],\n",
        "    [10, 0, 35, 25],\n",
        "    [15, 35, 0, 30],\n",
        "    [20, 25, 30, 0]\n",
        "]\n",
        "n = len(graph)\n",
        "\n",
        "@lru_cache(None)\n",
        "def tsp(pos, visited):\n",
        "    if visited == (1 << n) - 1:\n",
        "        return graph[pos][0], [0]\n",
        "    min_cost, min_path = float('inf'), []\n",
        "    for city in range(n):\n",
        "        if not visited & (1 << city):\n",
        "            cost, path = tsp(city, visited | (1 << city))\n",
        "            cost += graph[pos][city]\n",
        "            if cost < min_cost:\n",
        "                min_cost, min_path = cost, [city] + path\n",
        "    return min_cost, min_path\n",
        "\n",
        "cost, path = tsp(0, 1)\n",
        "print(f\"Minimum Cost: {cost}\")\n",
        "print(\"Shortest Path:\", ' -> '.join(map(str, [0] + path)))\n"
      ],
      "metadata": {
        "colab": {
          "base_uri": "https://localhost:8080/"
        },
        "id": "XjHlSvm3xMH_",
        "outputId": "3a54f2e5-b400-4c63-84a8-546c2421b5c8"
      },
      "execution_count": 11,
      "outputs": [
        {
          "output_type": "stream",
          "name": "stdout",
          "text": [
            "Minimum Cost: 80\n",
            "Shortest Path: 0 -> 1 -> 3 -> 2 -> 0\n"
          ]
        }
      ]
    },
    {
      "cell_type": "code",
      "source": [
        "#Exp 6a Djikstra Algorithm\n",
        "import heapq\n",
        "\n",
        "def dijkstra(graph, start):\n",
        "    dist, prev, pq = {v: float('inf') for v in graph}, {v: None for v in graph}, [(0, start)]\n",
        "    dist[start] = 0\n",
        "    while pq:\n",
        "        d, u = heapq.heappop(pq)\n",
        "        for v, w in graph[u]:\n",
        "            if d + w < dist[v]:\n",
        "                dist[v], prev[v] = d + w, u\n",
        "                heapq.heappush(pq, (dist[v], v))\n",
        "    return dist, prev\n",
        "\n",
        "def shortest_path(prev, start, end):\n",
        "    path, node = [], end\n",
        "    while node and node != start:\n",
        "        path.append(node)\n",
        "        node = prev[node]\n",
        "    return \" -> \".join([start] + path[::-1]) if path else start\n",
        "\n",
        "# Example usage\n",
        "graph = {'A': [('B', 4), ('C', 2)], 'B': [('A', 4)], 'C': [('A', 2), ('D', 3)], 'D': [('C', 3)]}\n",
        "start, end = 'A', 'D'\n",
        "dist, prev = dijkstra(graph, start)\n",
        "\n",
        "# Print table\n",
        "print(\"Vertex  Previous Vertex  Distance from Start\")\n",
        "for v in graph:\n",
        "    print(f\"{v:6} {prev[v] if prev[v] else '-':15} {dist[v]}\")\n",
        "\n",
        "# Print shortest path\n",
        "print(f\"\\nShortest path from {start} to {end}: {shortest_path(prev, start, end)}\")\n",
        "print(f\"Shortest distance: {dist[end]}\")\n"
      ],
      "metadata": {
        "colab": {
          "base_uri": "https://localhost:8080/"
        },
        "id": "lBiaBBW5xZcG",
        "outputId": "9d7e974d-0c18-4013-b714-9c9f9cd05fee"
      },
      "execution_count": 4,
      "outputs": [
        {
          "output_type": "stream",
          "name": "stdout",
          "text": [
            "Vertex  Previous Vertex  Distance from Start\n",
            "A      -               0\n",
            "B      A               4\n",
            "C      A               2\n",
            "D      C               5\n",
            "\n",
            "Shortest path from A to D: A -> C -> D\n",
            "Shortest distance: 5\n"
          ]
        }
      ]
    },
    {
      "cell_type": "code",
      "source": [
        "#Exp 6b Floyd Warshall Algorithm\n",
        "import numpy as np\n",
        "def floyd_warshall(graph):\n",
        "    num_vertices = len(graph)\n",
        "    distance = np.copy(graph)\n",
        "    for k in range(num_vertices):\n",
        "        for i in range(num_vertices):\n",
        "            for j in range(num_vertices):\n",
        "                if distance[i][j] > distance[i][k] + distance[k][j]:\n",
        "                    distance[i][j] = distance[i][k] + distance[k][j]\n",
        "    return distance\n",
        "graph = [\n",
        "    [0, 1, np.inf],\n",
        "    [1, 0, 2],\n",
        "    [np.inf, 2, 0]\n",
        "]\n",
        "\n",
        "shortest_paths = floyd_warshall(graph)\n",
        "print(\"Shortest path distance matrix:\")\n",
        "print(shortest_paths)"
      ],
      "metadata": {
        "colab": {
          "base_uri": "https://localhost:8080/"
        },
        "id": "BYhEdbJoxodM",
        "outputId": "8536f6be-9929-47f2-a696-1391469e4f88"
      },
      "execution_count": 5,
      "outputs": [
        {
          "output_type": "stream",
          "name": "stdout",
          "text": [
            "Shortest path distance matrix:\n",
            "[[0. 1. 3.]\n",
            " [1. 0. 2.]\n",
            " [3. 2. 0.]]\n"
          ]
        }
      ]
    },
    {
      "cell_type": "code",
      "source": [
        "#Exp 7a Prim algorithm\n",
        "def prim(graph):\n",
        "    n = len(graph)\n",
        "    selected = [False] * n\n",
        "    selected[0] = True\n",
        "    edges, cost = [], 0\n",
        "\n",
        "    for _ in range(n - 1):\n",
        "        min_edge = (None, None, float('inf'))\n",
        "        for u in range(n):\n",
        "            if selected[u]:\n",
        "                for v in range(n):\n",
        "                    if not selected[v] and 0 < graph[u][v] < min_edge[2]:\n",
        "                        min_edge = (u, v, graph[u][v])\n",
        "        u, v, w = min_edge\n",
        "        selected[v] = True\n",
        "        edges.append((u, v, w))\n",
        "        cost += w\n",
        "\n",
        "    print(\"Edges in MST:\")\n",
        "    for u, v, w in edges:\n",
        "        print(f\"{u} - {v} : {w}\")\n",
        "    print(f\"\\nTotal Cost: {cost}\")\n",
        "    # Example usage\n",
        "graph = [\n",
        "    [0, 2, 0, 6, 0],\n",
        "    [2, 0, 3, 8, 5],\n",
        "    [0, 3, 0, 0, 7],\n",
        "    [6, 8, 0, 0, 9],\n",
        "    [0, 5, 7, 9, 0]\n",
        "]\n",
        "\n",
        "prim(graph)"
      ],
      "metadata": {
        "colab": {
          "base_uri": "https://localhost:8080/"
        },
        "id": "jjM1Okybxutd",
        "outputId": "1cfb9ab1-4e5e-4dcf-c9d4-c18252e4e8e4"
      },
      "execution_count": 6,
      "outputs": [
        {
          "output_type": "stream",
          "name": "stdout",
          "text": [
            "Edges in MST:\n",
            "0 - 1 : 2\n",
            "1 - 2 : 3\n",
            "1 - 4 : 5\n",
            "0 - 3 : 6\n",
            "\n",
            "Total Cost: 16\n"
          ]
        }
      ]
    },
    {
      "cell_type": "code",
      "source": [
        "#Exp 7b Kruskal algorithm\n",
        "class DisjointSet:\n",
        "    def __init__(self, n):\n",
        "        self.parent = list(range(n))\n",
        "        self.rank = [0] * n\n",
        "\n",
        "    def find(self, u):\n",
        "        if self.parent[u] != u:\n",
        "            self.parent[u] = self.find(self.parent[u])\n",
        "        return self.parent[u]\n",
        "\n",
        "    def union(self, u, v):\n",
        "        root_u = self.find(u)\n",
        "        root_v = self.find(v)\n",
        "\n",
        "        if root_u != root_v:\n",
        "            if self.rank[root_u] > self.rank[root_v]:\n",
        "                self.parent[root_v] = root_u\n",
        "            elif self.rank[root_u] < self.rank[root_v]:\n",
        "                self.parent[root_u] = root_v\n",
        "            else:\n",
        "                self.parent[root_v] = root_u\n",
        "                self.rank[root_u] += 1\n",
        "\n",
        "\n",
        "def kruskal(vertices, edges):\n",
        "    # Sort edges based on weight\n",
        "    edges.sort(key=lambda x: x[2])\n",
        "\n",
        "    ds = DisjointSet(len(vertices))\n",
        "    mst_edges = []\n",
        "    total_weight = 0\n",
        "\n",
        "    for u, v, weight in edges:\n",
        "        if ds.find(u) != ds.find(v):\n",
        "            ds.union(u, v)\n",
        "            mst_edges.append((u, v, weight))\n",
        "            total_weight += weight\n",
        "\n",
        "    return mst_edges, total_weight\n",
        "\n",
        "def main():\n",
        "    # Define the graph\n",
        "    vertices = ['A', 'B', 'C', 'D', 'E']\n",
        "    edges = [\n",
        "        (0, 1, 4),  # A-B\n",
        "        (0, 2, 1),  # A-C\n",
        "        (1, 2, 2),  # B-C\n",
        "        (1, 3, 5),  # B-D\n",
        "        (2, 3, 8),  # C-D\n",
        "        (3, 4, 3),  # D-E\n",
        "        (2, 4, 7)   # C-E\n",
        "    ]\n",
        "\n",
        "    print(\"Vertices:\", vertices)\n",
        "    print(\"Edges (u, v, weight):\", edges)\n",
        "\n",
        "    mst_edges, total_weight = kruskal(vertices, edges)\n",
        "\n",
        "    print(\"\\nMinimum Spanning Tree (MST) Edges (u, v, weight):\")\n",
        "    for u, v, weight in mst_edges:\n",
        "        print(f\"({vertices[u]}, {vertices[v]}, {weight})\")\n",
        "\n",
        "    print(\"Total weight of MST:\", total_weight)\n",
        "\n",
        "\n",
        "if __name__ == \"__main__\":\n",
        "    main()"
      ],
      "metadata": {
        "colab": {
          "base_uri": "https://localhost:8080/"
        },
        "id": "V8xypECtxwbO",
        "outputId": "46b65304-fcfd-459b-94a7-cf5703c2051e"
      },
      "execution_count": 7,
      "outputs": [
        {
          "output_type": "stream",
          "name": "stdout",
          "text": [
            "Vertices: ['A', 'B', 'C', 'D', 'E']\n",
            "Edges (u, v, weight): [(0, 1, 4), (0, 2, 1), (1, 2, 2), (1, 3, 5), (2, 3, 8), (3, 4, 3), (2, 4, 7)]\n",
            "\n",
            "Minimum Spanning Tree (MST) Edges (u, v, weight):\n",
            "(A, C, 1)\n",
            "(B, C, 2)\n",
            "(D, E, 3)\n",
            "(B, D, 5)\n",
            "Total weight of MST: 11\n"
          ]
        }
      ]
    },
    {
      "cell_type": "code",
      "source": [
        "#Exp 8 Network flow\n",
        "class Graph:\n",
        "    def __init__(self, vertices):\n",
        "        self.V = vertices  # Number of vertices\n",
        "        self.graph = [[0] * vertices for _ in range(vertices)]  # Initialize graph with zero capacity\n",
        "\n",
        "    # Function to perform DFS and check if there is a path from source to sink\n",
        "    def dfs(self, s, t, parent):\n",
        "        visited = [False] * self.V\n",
        "        stack = [s]\n",
        "        visited[s] = True\n",
        "\n",
        "        while stack:\n",
        "            u = stack.pop()\n",
        "\n",
        "            for v in range(self.V):\n",
        "                if visited[v] == False and self.graph[u][v] > 0:  # If v is not visited and there's a residual capacity\n",
        "                    stack.append(v)\n",
        "                    visited[v] = True\n",
        "                    parent[v] = u\n",
        "\n",
        "                    if v == t:\n",
        "                        return True\n",
        "\n",
        "        return False\n",
        "\n",
        "    # Ford-Fulkerson algorithm to find the maximum flow\n",
        "    def ford_fulkerson(self, source, sink):\n",
        "        parent = [-1] * self.V  # Array to store the path\n",
        "        max_flow = 0  # Start with zero flow\n",
        "        all_paths = []  # To store the list of all augmenting paths\n",
        "\n",
        "        # Augment the flow while there is a path from source to sink\n",
        "        while self.dfs(source, sink, parent):\n",
        "            path_flow = float('Inf')\n",
        "            path = []  # To store the current augmenting path\n",
        "\n",
        "            # Find the maximum flow through the path found by DFS\n",
        "            s = sink\n",
        "            while s != source:\n",
        "                path.append(s)\n",
        "                path_flow = min(path_flow, self.graph[parent[s]][s])\n",
        "                s = parent[s]\n",
        "            path.append(source)\n",
        "            path.reverse()  # Reverse the path to show it from source to sink\n",
        "\n",
        "            # Store the current augmenting path\n",
        "            all_paths.append((path, path_flow))\n",
        "\n",
        "            # Update the residual capacities of the edges and reverse edges along the path\n",
        "            max_flow += path_flow\n",
        "            v = sink\n",
        "            while v != source:\n",
        "                u = parent[v]\n",
        "                self.graph[u][v] -= path_flow  # Reduce the capacity in the forward direction\n",
        "                self.graph[v][u] += path_flow  # Add the capacity in the reverse direction\n",
        "                v = parent[v]\n",
        "\n",
        "        return max_flow, all_paths\n",
        "\n",
        "\n",
        "# Example usage:\n",
        "if __name__ == \"__main__\":\n",
        "    # Create a graph and add edges\n",
        "    g = Graph(6)  # A graph with 6 vertices (0 to 5)\n",
        "\n",
        "    # Adding edges (u, v, capacity)\n",
        "    g.graph[0][1] = 16\n",
        "    g.graph[0][2] = 13\n",
        "    g.graph[1][2] = 10\n",
        "    g.graph[1][3] = 12\n",
        "    g.graph[2][1] = 4\n",
        "    g.graph[2][4] = 14\n",
        "    g.graph[3][2] = 9\n",
        "    g.graph[3][5] = 20\n",
        "    g.graph[4][3] = 7\n",
        "    g.graph[4][5] = 4\n",
        "\n",
        "    source = 0\n",
        "    sink = 5\n",
        "\n",
        "    max_flow, all_paths = g.ford_fulkerson(source, sink)\n",
        "\n",
        "    # Display the source, sink, maximum flow, and augmenting paths\n",
        "    print(f\"Source: {source}, Sink: {sink}\")\n",
        "    print(f\"The maximum possible flow is: {max_flow}\")\n",
        "\n",
        "    print(\"\\nAugmenting paths:\")\n",
        "    for i, (path, flow) in enumerate(all_paths):\n",
        "        print(f\"Path {i+1}: {path} with flow: {flow}\")\n",
        "\n"
      ],
      "metadata": {
        "colab": {
          "base_uri": "https://localhost:8080/"
        },
        "id": "RYAxvUW0yCWI",
        "outputId": "b77697ce-6103-4a7f-d321-806241d42c40"
      },
      "execution_count": 10,
      "outputs": [
        {
          "output_type": "stream",
          "name": "stdout",
          "text": [
            "Source: 0, Sink: 5\n",
            "The maximum possible flow is: 23\n",
            "\n",
            "Augmenting paths:\n",
            "Path 1: [0, 2, 4, 5] with flow: 4\n",
            "Path 2: [0, 2, 4, 3, 5] with flow: 7\n",
            "Path 3: [0, 1, 3, 5] with flow: 12\n"
          ]
        }
      ]
    },
    {
      "cell_type": "code",
      "source": [
        "#Exp 9 Randomized algorithm\n",
        "import random\n",
        "# Function to partition the array\n",
        "def partition_left(arr, low, high):\n",
        "  pivot = arr[high]\n",
        "  i = low\n",
        "  for j in range(low, high):\n",
        "    if arr[j] <= pivot:\n",
        "      arr[i], arr[j] = arr[j], arr[i]\n",
        "      i += 1\n",
        "      arr[i], arr[high] = arr[high], arr[i]\n",
        "    return i\n",
        "# Function to perform random partition\n",
        "def partition_right(arr, low, high):\n",
        "  r = random.randint(low, high)\n",
        "  arr[r], arr[high] = arr[high], arr[r]\n",
        "  return partition_left(arr, low, high)\n",
        "# Recursive function for quicksort\n",
        "def quicksort(arr, low, high):\n",
        "  if low < high:\n",
        "    p = partition_right(arr, low, high)\n",
        "    quicksort(arr, low, p - 1)\n",
        "    quicksort(arr, p + 1, high)\n",
        "# Function to print the array\n",
        "def printArray(arr):\n",
        "  for element in arr:\n",
        "    print(element, end=\" \")\n",
        "  print()\n",
        "# Driver code\n",
        "arr = [6, 4, 12, 8, 15, 16]\n",
        "n = len(arr)\n",
        "print(\"Original array:\", end=\" \")\n",
        "printArray(arr)\n",
        "quicksort(arr, 0, n - 1)\n",
        "print(\"Sorted array:\", end=\" \")\n",
        "printArray(arr)\n",
        "quicksort(arr, 0, n - 1)\n",
        "print(\"Sorted array:\", end=\" \")\n",
        "printArray(arr)"
      ],
      "metadata": {
        "colab": {
          "base_uri": "https://localhost:8080/"
        },
        "id": "xLC256cEyKqp",
        "outputId": "cea0ac6b-1d58-4c2c-ce69-e3f965a819df"
      },
      "execution_count": 8,
      "outputs": [
        {
          "output_type": "stream",
          "name": "stdout",
          "text": [
            "Original array: 6 4 12 8 15 16 \n",
            "Sorted array: 6 12 16 8 4 15 \n",
            "Sorted array: 15 12 8 16 6 4 \n"
          ]
        }
      ]
    },
    {
      "cell_type": "code",
      "source": [
        "#Exp 10 Approximation\n",
        "MAX_VERTICES = 100\n",
        "graph = [[0 for _ in range(MAX_VERTICES)] for _ in range(MAX_VERTICES)]\n",
        "included = [False for _ in range(MAX_VERTICES)]\n",
        "# Function to find Vertex Cover using the APPROX-VERTEX_COVER algorithm\n",
        "def approx_vertex_cover(vertices, edges):\n",
        "  edges_remaining = [row[:] for row in graph]\n",
        "  while edges > 0:\n",
        "    for i in range(vertices):\n",
        "      for j in range(vertices):\n",
        "        if edges_remaining[i][j]:\n",
        "          u = i\n",
        "          v = j\n",
        "          break\n",
        "    included[u] = included[v] = True\n",
        "    for i in range(vertices):\n",
        "      edges_remaining[u][i] = edges_remaining[i][u] = False\n",
        "      edges_remaining[v][i] = edges_remaining[i][v] = False\n",
        "    edges -= 2\n",
        "# Driver Code\n",
        "if __name__ == \"__main__\":\n",
        "  vertices = 8\n",
        "  edges = 10\n",
        "  edges_data = [(1, 6), (1, 2), (1, 4), (2, 3), (2, 4),(6, 7), (4, 7), (7, 8), (3, 5), (8, 5)]\n",
        "  for u, v in edges_data:\n",
        "    graph[u][v] = graph[v][u] = 1\n",
        "  approx_vertex_cover(vertices, edges)\n",
        "  print(\"Vertex Cover:\", end=\" \")\n",
        "  for i in range(1, vertices + 1):\n",
        "    if included[i]:\n",
        "      print(i, end=\" \")\n",
        "  print()\n"
      ],
      "metadata": {
        "colab": {
          "base_uri": "https://localhost:8080/"
        },
        "id": "kCTQhMxLyQ7z",
        "outputId": "87f9f5a0-4b48-4d68-9af1-e9b5d4401d63"
      },
      "execution_count": 9,
      "outputs": [
        {
          "output_type": "stream",
          "name": "stdout",
          "text": [
            "Vertex Cover: 1 3 4 5 6 7 \n"
          ]
        }
      ]
    }
  ]
}